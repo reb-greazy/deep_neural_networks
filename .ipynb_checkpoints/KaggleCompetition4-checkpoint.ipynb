{
 "cells": [
  {
   "cell_type": "markdown",
   "metadata": {},
   "source": [
    "# Kaggle Competition \n",
    "## Rebekah Griesenauer"
   ]
  },
  {
   "cell_type": "markdown",
   "metadata": {},
   "source": [
    "### Run useful functions"
   ]
  },
  {
   "cell_type": "code",
   "execution_count": 1,
   "metadata": {},
   "outputs": [
    {
     "name": "stderr",
     "output_type": "stream",
     "text": [
      "Using TensorFlow backend.\n"
     ]
    }
   ],
   "source": [
    "from sklearn import preprocessing\n",
    "import matplotlib.pyplot as plt\n",
    "import numpy as np\n",
    "import pandas as pd\n",
    "import shutil\n",
    "import os\n",
    "import requests\n",
    "import base64\n",
    "\n",
    "# TensorFlow with Dropout for Regression\n",
    "############################################\n",
    "%matplotlib inline\n",
    "from matplotlib.pyplot import figure, show\n",
    "import tensorflow as tf\n",
    "from sklearn.model_selection import train_test_split\n",
    "from sklearn import metrics\n",
    "from scipy.stats import zscore\n",
    "from keras.callbacks import EarlyStopping\n",
    "from keras.layers import Dense, Dropout\n",
    "from keras import regularizers\n",
    "from keras.models import Sequential\n",
    "\n",
    "\n",
    "# Encode text values to dummy variables(i.e. [1,0,0],[0,1,0],[0,0,1] for red,green,blue)\n",
    "def encode_text_dummy(df, name):\n",
    "    dummies = pd.get_dummies(df[name])\n",
    "    for x in dummies.columns:\n",
    "        dummy_name = \"{}-{}\".format(name, x)\n",
    "        df[dummy_name] = dummies[x]\n",
    "    df.drop(name, axis=1, inplace=True)\n",
    "\n",
    "\n",
    "# Encode a numeric column as zscores\n",
    "def encode_numeric_zscore(df, name, mean=None, sd=None):\n",
    "    if mean is None:\n",
    "        mean = df[name].mean()\n",
    "\n",
    "    if sd is None:\n",
    "        sd = df[name].std()\n",
    "\n",
    "    df[name] = (df[name] - mean) / sd\n",
    "\n",
    "\n",
    "# Convert all missing values in the specified column to the median\n",
    "def missing_median(df, name):\n",
    "    med = df[name].median()\n",
    "    df[name] = df[name].fillna(med)\n",
    "\n",
    "# Convert a Pandas dataframe to the x,y inputs that TensorFlow needs\n",
    "def to_xy(df, target):\n",
    "    result = []\n",
    "    for x in df.columns:\n",
    "        if x != target:\n",
    "            result.append(x)\n",
    "    # find out the type of the target column.  Is it really this hard? :(\n",
    "    target_type = df[target].dtypes\n",
    "    target_type = target_type[0] if hasattr(target_type, '__iter__') else target_type\n",
    "    # Encode to int for classification, float otherwise. TensorFlow likes 32 bits.\n",
    "    if target_type in (np.int64, np.int32):\n",
    "        # Classification\n",
    "        dummies = pd.get_dummies(df[target])\n",
    "        return df.as_matrix(result).astype(np.float32), dummies.as_matrix().astype(np.float32)\n",
    "    else:\n",
    "        # Regression\n",
    "        return df.as_matrix(result).astype(np.float32), df.as_matrix([target]).astype(np.float32)\n"
   ]
  },
  {
   "cell_type": "code",
   "execution_count": 2,
   "metadata": {},
   "outputs": [],
   "source": [
    "# Setup path and read in data\n",
    "path = \"./data/all/\"\n",
    "\n",
    "filename_read_train = os.path.join(path,\"train.csv\")\n",
    "filename_read_test = os.path.join(path,\"test.csv\")\n",
    "df_train = pd.read_csv(filename_read_train,na_values=['NA', '?'])\n",
    "df_test = pd.read_csv(filename_read_test,na_values=['NA', '?'])\n",
    "\n",
    "ids = df_test['id']\n",
    "df_test.drop('id',1,inplace=True)\n",
    "df_train.drop('id',1,inplace=True)\n",
    "\n",
    "df_train = df_train.reindex(np.random.permutation(df_train.index))\n",
    "df_train.reset_index(inplace=True, drop=True)\n",
    "\n",
    "density_gold = 19.32\n",
    "density_platinum = 21.09\n",
    "density_bronze = 9.29\n",
    "density_tin =  7.31\n",
    "density_silver = 10.49"
   ]
  },
  {
   "cell_type": "markdown",
   "metadata": {},
   "source": [
    "# Feature Engineering\n",
    "\n",
    "### Operations performed on each feature\n",
    "1. ID: Drop\n",
    "2. shape: encode as text dummy variable\n",
    "3. metal: encode as text dummy variable\n",
    "4. metal_cost: used to calculate cost of metal/ total cost, then drop\n",
    "5. height: use to calculate volume, then drop\n",
    "6. width: use to calculate volume, then drop\n",
    "7. length: use to calculate volume, then drop\n",
    "8. led: use to calculate volume of LED, then drop\n",
    "9. gears: use to calculate volume of gears, then drop\n",
    "10. motors:use to calculate volume of motors, then drop\n",
    "11. led_vol: calculate volume of LED (df['led']*0.027), encode as z-score\n",
    "12. motor_vol: calculate volume of LED ((2*2*2) * df['motors']), encode as z-score\n",
    "13. gear_vol: calculate volume of LED ((1*2*2) * df['gears']), encode as z-score\n",
    "14. volume_parts: led_vol+motor_vol+gear_vol, encode as z-score\n",
    "15. cost: fill missing values with median, encode as z-score\n",
    "16. weight (target)\n",
    "\n",
    "Additional Columns added:\n",
    "1. volume (volume of widget): use height, width, and length along with individual equations for sphere, box, and cylinder, encode as z-score\n",
    "2. est_weight (estimated weight): density of metal * volume, encode as z-score\n",
    "3. price_per_metal = df['cost']/df['metal_cost'], encode as z-score\n",
    "4. final_volume = df['volume']-df['volume_parts'], encode as z-score\n",
    "\n",
    "\n"
   ]
  },
  {
   "cell_type": "code",
   "execution_count": 3,
   "metadata": {},
   "outputs": [],
   "source": [
    "#calculate and populate volume for each different shape \n",
    "def feature_engineering_calculations(df):\n",
    "\n",
    "    df['volume']=0\n",
    "    \n",
    "    df['volume'] = df.apply(\n",
    "        lambda row: row['length']*row['height']*row['width'] if row['shape']=='box' else row['volume'],axis=1)\n",
    "\n",
    "    df['volume'] = df.apply(\n",
    "        lambda row: row['height']*np.pi*(row['width']/2)**2 if row['shape']=='cylinder' else row['volume'],axis=1)\n",
    "\n",
    "    df['volume'] = df.apply(\n",
    "        lambda row: (4/3)*np.pi*(row['length']/2)**3 if row['shape']=='sphere' else row['volume'],axis=1)\n",
    "   \n",
    "    df['est_weight']=0\n",
    "    \n",
    "    df['est_weight'] = df.apply(\n",
    "        lambda row: density_gold*row['volume'] if row['metal']=='gold' else row['est_weight'],axis=1)\n",
    "\n",
    "    df['est_weight'] = df.apply(\n",
    "        lambda row: density_platinum*row['volume'] if row['metal']=='platinum' else row['est_weight'],axis=1)\n",
    "\n",
    "    df['est_weight'] = df.apply(\n",
    "        lambda row: density_bronze*row['volume'] if row['metal']=='bronze' else row['est_weight'],axis=1)\n",
    "\n",
    "    df['est_weight'] = df.apply(\n",
    "        lambda row: density_tin*row['volume'] if row['metal']=='tin' else row['est_weight'],axis=1)\n",
    "\n",
    "    df['est_weight'] = df.apply(\n",
    "        lambda row: density_silver*row['volume'] if row['metal']=='silver' else row['est_weight'],axis=1)\n",
    "\n",
    "    df['led_vol'] = df['led']*0.027\n",
    "    \n",
    "    df['motor_vol'] = (2*2*2) * df['motors']\n",
    "    \n",
    "    df['gear_vol'] = (1*2*2) * df['gears']\n",
    "    \n",
    "    missing_median(df,'cost')\n",
    "    \n",
    "    df['price_per_metal'] = df['cost']/df['metal_cost']\n",
    "    \n",
    "    df['volume_parts'] = df['led_vol'] + df['motor_vol'] + df['gear_vol']\n",
    "    \n",
    "    df['final_volume'] = df['volume']-df['volume_parts']\n",
    "    \n",
    "    return df\n",
    "    "
   ]
  },
  {
   "cell_type": "code",
   "execution_count": 4,
   "metadata": {},
   "outputs": [],
   "source": [
    "def feature_engineering_encode(df):\n",
    "    encode_text_dummy(df,\"shape\")\n",
    "    encode_text_dummy(df,\"metal\")\n",
    "    df.drop('metal_cost',1,inplace=True)\n",
    "    df.drop('height',1,inplace=True)\n",
    "    df.drop('width',1,inplace=True)\n",
    "    df.drop('led',1,inplace=True)\n",
    "    df.drop('gears',1,inplace=True)\n",
    "    df.drop('motors',1,inplace=True)\n",
    "    encode_numeric_zscore(df,'led_vol')\n",
    "    encode_numeric_zscore(df,'motor_vol')\n",
    "    encode_numeric_zscore(df,'gear_vol')\n",
    "    encode_numeric_zscore(df,'volume_parts')\n",
    "    encode_numeric_zscore(df,'cost')\n",
    "    encode_numeric_zscore(df,'volume')\n",
    "    encode_numeric_zscore(df,'est_weight')\n",
    "    encode_numeric_zscore(df,'price_per_metal')\n",
    "    encode_numeric_zscore(df,'final_volume')\n",
    "    return df"
   ]
  },
  {
   "cell_type": "code",
   "execution_count": 5,
   "metadata": {},
   "outputs": [],
   "source": [
    "df_train = feature_engineering_calculations(df_train)\n",
    "df_train = feature_engineering_encode(df_train)"
   ]
  },
  {
   "cell_type": "code",
   "execution_count": 7,
   "metadata": {},
   "outputs": [
    {
     "name": "stderr",
     "output_type": "stream",
     "text": [
      "/anaconda3/lib/python3.6/site-packages/ipykernel_launcher.py:89: FutureWarning: Method .as_matrix will be removed in a future version. Use .values instead.\n"
     ]
    }
   ],
   "source": [
    "df_train['weight']=df_train['weight'].astype('float')\n",
    "x,y = to_xy(df_train,\"weight\")\n",
    "# Split into train/test\n",
    "x_train, x_test, y_train, y_test = train_test_split(    \n",
    "    x, y, test_size=0.20, random_state=45)"
   ]
  },
  {
   "cell_type": "code",
   "execution_count": 8,
   "metadata": {},
   "outputs": [
    {
     "name": "stdout",
     "output_type": "stream",
     "text": [
      "Epoch 00035: early stopping\n",
      "Final score (RMSE): 204.2002410888672\n"
     ]
    }
   ],
   "source": [
    "model = Sequential()\n",
    "model.add(Dense(100, input_dim=x.shape[1]))\n",
    "model.add(Dropout(0.01))\n",
    "model.add(Dense(50, activation='relu'))\n",
    "model.add(Dense(25, activation='relu'))\n",
    "model.add(Dense(1))\n",
    "model.compile(loss='mean_squared_error', optimizer='adam')\n",
    "monitor = EarlyStopping(monitor='val_loss', min_delta=1e-3, patience=10, verbose=1, mode='auto')\n",
    "model.fit(x_train,y_train,validation_data=(x_test,y_test),callbacks=[monitor],verbose=0,epochs=1000)\n",
    "pred = model.predict(x_test)\n",
    "# Measure RMSE error.\n",
    "score = np.sqrt(metrics.mean_squared_error(pred,y_test))\n",
    "print(\"Final score (RMSE): {}\".format(score))"
   ]
  },
  {
   "cell_type": "code",
   "execution_count": 9,
   "metadata": {},
   "outputs": [
    {
     "name": "stderr",
     "output_type": "stream",
     "text": [
      "/anaconda3/lib/python3.6/site-packages/ipykernel_launcher.py:3: FutureWarning: Method .as_matrix will be removed in a future version. Use .values instead.\n",
      "  This is separate from the ipykernel package so we can avoid doing imports until\n"
     ]
    }
   ],
   "source": [
    "df_test = feature_engineering_calculations(df_test)\n",
    "df_test = feature_engineering_encode(df_test)\n",
    "x = df_test.as_matrix().astype(np.float32)"
   ]
  },
  {
   "cell_type": "code",
   "execution_count": 10,
   "metadata": {},
   "outputs": [],
   "source": [
    "pred = model.predict(x)"
   ]
  },
  {
   "cell_type": "code",
   "execution_count": 11,
   "metadata": {},
   "outputs": [],
   "source": [
    "submit_df=pd.DataFrame(pred)\n",
    "submit_df.insert(0,'id',ids)\n",
    "submit_df.columns = ['id','weight']\n",
    "submit_df=submit_df.set_index('id')\n",
    "submit_df.to_csv('kaggle_submit_df3.csv')"
   ]
  }
 ],
 "metadata": {
  "kernelspec": {
   "display_name": "Python 3",
   "language": "python",
   "name": "python3"
  },
  "language_info": {
   "codemirror_mode": {
    "name": "ipython",
    "version": 3
   },
   "file_extension": ".py",
   "mimetype": "text/x-python",
   "name": "python",
   "nbconvert_exporter": "python",
   "pygments_lexer": "ipython3",
   "version": "3.6.5"
  }
 },
 "nbformat": 4,
 "nbformat_minor": 2
}
