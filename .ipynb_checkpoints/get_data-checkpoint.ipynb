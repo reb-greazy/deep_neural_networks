{
 "cells": [
  {
   "cell_type": "markdown",
   "metadata": {},
   "source": [
    "\n",
    "## Author: Rebekah Griesenauer\n",
    "In this project, I will classify clinical trials for oncology drugs as \"successful\" or \"failed\" based on features extracted from the CDEK database, cross-referenced with the AACT database. \n",
    "\n",
    "\n",
    "### About the data sources\n",
    "The [Clinical Drug Experience Knowledgebase (CDEK)](http://cdek.wustl.edu) is a database and web platform of active pharmaceutical ingredients with evidence of clinical testing as well as the organizations involved in their research and development. CDEK aggregates metadata surrounding active pharmaceutical ingredients, including the details of clinical trial design, intended indications, and organizations responsible for development. The envisioned use of the CDEK is to support the investigation of many aspects of drug development, including discovery, repurposing opportunities, chemo- and bio-informatics, clinical and translational research, and regulatory sciences. \n",
    "\n",
    "To get clinical trial metadata not currently stored in CDEK, I cross-reference with the [AACT database](https://www.ctti-clinicaltrials.org/aact-database). ClinicalTrials.gov is a repository of clinical trial registrations in the United States and is maintained by the National Library of Medicine (NLM) at the National Institutes of Health (NIH) in collaboration with the Food and Drug Administration (FDA). The AACT database was developed and is maintained by the Clinical Trials Transformation Initiative (CTTI) group, a government-academic collaboration between the FDA and Duke University. The AACT database contains ClinicalTrials.gov data that has been parsed and deposited into a structured relational database. AACT also links clinical trials data to Medical Subject Headings (MeSH terms), a controlled vocabulary containing terms describing disease indications and interventions. This mapping enables querying the data by intervention and disease indication terms.\n",
    "\n",
    "### Project Process\n",
    "The steps included in this project are as follows: \n",
    "1. Extract feature data and target data from CDEK and AACT\n",
    "2. Clean data and structure into a Pandas dataframe\n",
    "3. Perform feature engineering to set up data for classification model\n",
    "4. Train and validate classification deep neural network\n",
    "5. Evaluate model accuracy\n",
    "\n",
    "## About this notebook\n",
    "This notebook performs steps 1 and 2 of the project process. \n"
   ]
  },
  {
   "cell_type": "markdown",
   "metadata": {},
   "source": [
    "### Set up connections to CDEK and AACT"
   ]
  },
  {
   "cell_type": "code",
   "execution_count": 1,
   "metadata": {},
   "outputs": [],
   "source": [
    "import pandas as pd\n",
    "import seaborn as sns\n",
    "import numpy as np\n",
    "from matplotlib import pyplot as plt\n",
    "import sqlalchemy\n",
    "import psycopg2\n",
    "\n",
    "conn_cdek = psycopg2.connect('''\n",
    "dbname=dflsafiqsli23l \n",
    "host=ec2-34-228-234-31.compute-1.amazonaws.com \n",
    "user=cdec \n",
    "password=p3e5c85362ff4fdf7edbb6f5eccf299c48d8e2baf176bf80a3d4685e60a2deaa2\n",
    "''')\n",
    "\n",
    "conn_aact = psycopg2.connect('''\n",
    "dbname=aact\n",
    "host=aact-db.ctti-clinicaltrials.org\n",
    "user=rebekahgriesenauer \n",
    "password=crib_aact\n",
    "''')"
   ]
  },
  {
   "cell_type": "markdown",
   "metadata": {},
   "source": [
    "### Setup queries\n",
    "This sequence of queries will generate a list of onoclogy clinical trial ids in Phase II from CDEK and query the AACT database to get trials overlapping with CDEK. To get a set of \"failed\" trials, I extract the why_stopped field from AACT when it is not null. To get a list of successful oncology drugs, I will extract Phase II trials from CDEK where there is a Phase III trial for that same drug-indication pair. This suggests that the drug successfully went on from phase II to phase III. "
   ]
  },
  {
   "cell_type": "code",
   "execution_count": 2,
   "metadata": {},
   "outputs": [],
   "source": [
    "#this query will return all phase II trial identifiers that are for an oncology indication\n",
    "cdek_sql_phase2 = ('''SELECT t1.trial_id, t3.api_id, mesh_descriptor, heading, scope_note, tree_number, tree_level, entry\n",
    "FROM public.trial_mesh_merge t1\n",
    "inner join all_trials t2 on t2.trial_id = t1.trial_id\n",
    "inner join link_trials_apis t3 on t3.trial_id = t1.trial_id\n",
    "where t1.tree_number like 'C04%'\n",
    "and t2.trial_phase in ('Phase 2') ''')\n",
    "\n",
    "cdek_sql_phase3 = ('''SELECT t1.trial_id,t3.api_id, mesh_descriptor,heading, tree_number\n",
    "FROM public.trial_mesh_merge t1\n",
    "inner join all_trials t2 on t2.trial_id = t1.trial_id\n",
    "inner join link_trials_apis t3 on t3.trial_id = t1.trial_id\n",
    "where t1.tree_number like 'C04%'\n",
    "and t2.trial_phase in ('Phase 3') ''')"
   ]
  },
  {
   "cell_type": "code",
   "execution_count": 3,
   "metadata": {},
   "outputs": [],
   "source": [
    "#perform queries\n",
    "cdek_dat_phase2 = pd.read_sql(cdek_sql_phase2, conn_cdek)\n",
    "cdek_dat_phase3 = pd.read_sql(cdek_sql_phase3, conn_cdek)"
   ]
  },
  {
   "cell_type": "code",
   "execution_count": 4,
   "metadata": {},
   "outputs": [],
   "source": [
    "#save query results\n",
    "cdek_dat_phase2.to_csv('cdek_dat_phase2.csv')\n",
    "cdek_dat_phase3.to_csv('cdek_dat_phase3.csv')"
   ]
  },
  {
   "cell_type": "code",
   "execution_count": 5,
   "metadata": {},
   "outputs": [
    {
     "name": "stderr",
     "output_type": "stream",
     "text": [
      "/anaconda3/lib/python3.6/site-packages/ipykernel_launcher.py:3: SettingWithCopyWarning: \n",
      "A value is trying to be set on a copy of a slice from a DataFrame\n",
      "\n",
      "See the caveats in the documentation: http://pandas.pydata.org/pandas-docs/stable/indexing.html#indexing-view-versus-copy\n",
      "  This is separate from the ipykernel package so we can avoid doing imports until\n",
      "/anaconda3/lib/python3.6/site-packages/ipykernel_launcher.py:7: SettingWithCopyWarning: \n",
      "A value is trying to be set on a copy of a slice from a DataFrame\n",
      "\n",
      "See the caveats in the documentation: http://pandas.pydata.org/pandas-docs/stable/indexing.html#indexing-view-versus-copy\n",
      "  import sys\n"
     ]
    }
   ],
   "source": [
    "#subset query results to contain only api_id, indication, and trial_id\n",
    "ph2_apis_indications = cdek_dat_phase2[['api_id','heading','trial_id']]\n",
    "ph2_apis_indications.drop_duplicates(inplace=True)\n",
    "\n",
    "\n",
    "ph3_apis_indications = cdek_dat_phase3[['api_id','heading','trial_id']]\n",
    "ph3_apis_indications.drop_duplicates(inplace=True)"
   ]
  },
  {
   "cell_type": "code",
   "execution_count": 22,
   "metadata": {},
   "outputs": [
    {
     "data": {
      "text/plain": [
       "1439405"
      ]
     },
     "execution_count": 22,
     "metadata": {},
     "output_type": "execute_result"
    }
   ],
   "source": [
    "#create new dataframe ph2 and ph3 trials with the same api_id and indication\n",
    "s1 = pd.merge(ph2_apis_indications, ph3_apis_indications, how='inner', on=['api_id','heading'])\n",
    "s1.drop_duplicates(inplace=True)\n",
    "s1.rename(columns={\"trial_id_x\": \"ph2_trial_id\", \"trial_id_y\": \"ph3_trial_id\"},inplace=True)\n"
   ]
  },
  {
   "cell_type": "code",
   "execution_count": 12,
   "metadata": {},
   "outputs": [],
   "source": [
    "#find phase II trials that do not have phase III trials\n",
    "sucessful_ph2 = pd.Series(list(s1.ph2_trial_id.unique()))\n",
    "failed_ph2 = pd.Series(list(set(ph2_apis_indications.trial_id) - set(sucessful_ph2)))\n",
    "relevant_ph3 = pd.Series(list(s1.ph3_trial_id.unique()))\n",
    "\n",
    "sucessful_ph2.to_csv('sucessful_ph2.csv')\n",
    "failed_ph2.to_csv('failed_ph2.csv')\n",
    "relevant_ph3.to_csv('relevant_ph3.csv')"
   ]
  },
  {
   "cell_type": "code",
   "execution_count": 16,
   "metadata": {},
   "outputs": [
    {
     "name": "stdout",
     "output_type": "stream",
     "text": [
      "Average ratio of successful phase 2 trials to relevant phase 3 trials:\n"
     ]
    },
    {
     "data": {
      "text/plain": [
       "2.796262652478588"
      ]
     },
     "execution_count": 16,
     "metadata": {},
     "output_type": "execute_result"
    }
   ],
   "source": [
    "print('Average ratio of successful phase 2 trials to relevant phase 3 trials:') \n",
    "len(sucessful_ph2)/len(relevant_ph3)"
   ]
  },
  {
   "cell_type": "code",
   "execution_count": 18,
   "metadata": {},
   "outputs": [],
   "source": [
    "#query CDEK to get the preferred name of relevant APIS\n",
    "name_links_sql = \"select api_id,api_name from public.link_names_apis where is_primary = 'true'\"\n",
    "name_links = pd.read_sql(name_links_sql, conn_cdek)"
   ]
  },
  {
   "cell_type": "code",
   "execution_count": 23,
   "metadata": {},
   "outputs": [],
   "source": [
    "s2 = pd.merge(s1,name_links, how = 'inner', on = ['api_id'])\n",
    "s2.to_csv(\"common_ph2_ph3_api_heading.csv\")"
   ]
  },
  {
   "cell_type": "code",
   "execution_count": 25,
   "metadata": {},
   "outputs": [],
   "source": [
    "# To approximate whether or not the api-drug indication has been approved, perform the following steps:\n",
    "# download databse dump of drugcentral\n",
    "# get mapping of SNOMED terms and DOID\n"
   ]
  },
  {
   "cell_type": "code",
   "execution_count": 26,
   "metadata": {},
   "outputs": [
    {
     "data": {
      "text/plain": [
       "0       NCT00378911\n",
       "1       NCT01601808\n",
       "2       NCT02094560\n",
       "3       NCT01856933\n",
       "4       NCT01723306\n",
       "5       NCT01616758\n",
       "6       NCT02008929\n",
       "7       NCT01607879\n",
       "8       NCT03122457\n",
       "9       NCT02989259\n",
       "10      NCT01623869\n",
       "11      NCT02166346\n",
       "12      NCT01200797\n",
       "13      NCT00006017\n",
       "14      NCT02992912\n",
       "15      NCT01205828\n",
       "16      NCT00035087\n",
       "17      NCT00856791\n",
       "18      NCT00562419\n",
       "19      NCT02383927\n",
       "20      NCT00702884\n",
       "21      NCT00380029\n",
       "22      NCT00442754\n",
       "23      NCT01939743\n",
       "24      NCT02375581\n",
       "25      NCT02859454\n",
       "26      NCT00071929\n",
       "27      NCT01193868\n",
       "28      NCT02587247\n",
       "29      NCT00024011\n",
       "           ...     \n",
       "3976    NCT02019979\n",
       "3977    NCT03110744\n",
       "3978    NCT02987010\n",
       "3979    NCT02310971\n",
       "3980    NCT01673009\n",
       "3981    NCT00687323\n",
       "3982    NCT00712062\n",
       "3983    NCT01065246\n",
       "3984    NCT02162914\n",
       "3985    NCT01681368\n",
       "3986    NCT00006450\n",
       "3987    NCT02764333\n",
       "3988    NCT00984217\n",
       "3989    NCT00505739\n",
       "3990    NCT00721799\n",
       "3991    NCT00377429\n",
       "3992    NCT00634270\n",
       "3993    NCT02042950\n",
       "3994    NCT02152059\n",
       "3995    NCT00068783\n",
       "3996    NCT01668914\n",
       "3997    NCT01774760\n",
       "3998    NCT00049556\n",
       "3999    NCT00036842\n",
       "4000    NCT02938442\n",
       "4001    NCT00405574\n",
       "4002    NCT00189345\n",
       "4003    NCT02965417\n",
       "4004    NCT01853644\n",
       "4005    NCT02439138\n",
       "Length: 4006, dtype: object"
      ]
     },
     "execution_count": 26,
     "metadata": {},
     "output_type": "execute_result"
    }
   ],
   "source": [
    "failed_ph2"
   ]
  },
  {
   "cell_type": "code",
   "execution_count": null,
   "metadata": {},
   "outputs": [],
   "source": []
  }
 ],
 "metadata": {
  "kernelspec": {
   "display_name": "Python 3",
   "language": "python",
   "name": "python3"
  },
  "language_info": {
   "codemirror_mode": {
    "name": "ipython",
    "version": 3
   },
   "file_extension": ".py",
   "mimetype": "text/x-python",
   "name": "python",
   "nbconvert_exporter": "python",
   "pygments_lexer": "ipython3",
   "version": "3.6.5"
  }
 },
 "nbformat": 4,
 "nbformat_minor": 2
}
